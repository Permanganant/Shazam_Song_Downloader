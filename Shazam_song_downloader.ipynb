{
  "nbformat": 4,
  "nbformat_minor": 0,
  "metadata": {
    "colab": {
      "name": "Shazam_song_downloader.ipynb",
      "provenance": [],
      "collapsed_sections": [],
      "authorship_tag": "ABX9TyOIDayY0gLxS5st4wY9A9sh",
      "include_colab_link": true
    },
    "kernelspec": {
      "name": "python3",
      "display_name": "Python 3"
    },
    "language_info": {
      "name": "python"
    }
  },
  "cells": [
    {
      "cell_type": "markdown",
      "metadata": {
        "id": "view-in-github",
        "colab_type": "text"
      },
      "source": [
        "<a href=\"https://colab.research.google.com/github/Permanganant/Shazam_Song_Downloader/blob/main/Shazam_song_downloader.ipynb\" target=\"_parent\"><img src=\"https://colab.research.google.com/assets/colab-badge.svg\" alt=\"Open In Colab\"/></a>"
      ]
    },
    {
      "cell_type": "code",
      "metadata": {
        "id": "exzHLXjuugHs"
      },
      "source": [
        "!pip install pytube\n",
        "!pip install youtube-search-python\n",
        "!pip3 install ShazamAPI\n",
        "!pip install ffmpeg-python > /dev/null\n",
        "!pip install torchaudio\n",
        "!pip install moviepy"
      ],
      "execution_count": null,
      "outputs": []
    },
    {
      "cell_type": "code",
      "metadata": {
        "id": "_FSeGRawDt1_"
      },
      "source": [
        "#Required Libraries\n",
        "\n",
        "from pytube import YouTube\n",
        "from pytube import Search\n",
        "from ShazamAPI import Shazam\n",
        "import json, requests \n",
        "from IPython.display import HTML, Audio\n",
        "from google.colab.output import eval_js\n",
        "from base64 import b64decode\n",
        "import numpy as np\n",
        "import io\n",
        "import ffmpeg\n",
        "import tempfile\n",
        "import pathlib\n",
        "import torchaudio\n",
        "import moviepy.editor as mp"
      ],
      "execution_count": null,
      "outputs": []
    },
    {
      "cell_type": "code",
      "metadata": {
        "colab": {
          "base_uri": "https://localhost:8080/",
          "height": 96
        },
        "id": "kcvFQxbnpmlr",
        "outputId": "eb48dd5d-acd2-4e61-bff6-7e884187d542"
      },
      "source": [
        "#To get audio for Colab this part of the code taken with some little modifications from https://ricardodeazambuja.com/deep_learning/2019/03/09/audio_and_video_google_colab/\n",
        "\n",
        "AUDIO_HTML = \"\"\"\n",
        "<script>\n",
        "var my_div = document.createElement(\"DIV\");\n",
        "var my_p = document.createElement(\"P\");\n",
        "var my_btn = document.createElement(\"BUTTON\");\n",
        "var t = document.createTextNode(\"Press to start recording\");\n",
        "\n",
        "my_btn.appendChild(t);\n",
        "//my_p.appendChild(my_btn);\n",
        "my_div.appendChild(my_btn);\n",
        "document.body.appendChild(my_div);\n",
        "\n",
        "var base64data = 0;\n",
        "var reader;\n",
        "var recorder, gumStream;\n",
        "var recordButton = my_btn;\n",
        "\n",
        "var handleSuccess = function(stream) {\n",
        "  gumStream = stream;\n",
        "  var options = {\n",
        "    //bitsPerSecond: 8000, //chrome seems to ignore, always 48k\n",
        "    mimeType : 'audio/webm;codecs=opus'\n",
        "    //mimeType : 'audio/webm;codecs=pcm'\n",
        "  };            \n",
        "  //recorder = new MediaRecorder(stream, options);\n",
        "  recorder = new MediaRecorder(stream);\n",
        "  recorder.ondataavailable = function(e) {            \n",
        "    var url = URL.createObjectURL(e.data);\n",
        "    var preview = document.createElement('audio');\n",
        "    preview.controls = true;\n",
        "    preview.src = url;\n",
        "    document.body.appendChild(preview);\n",
        "\n",
        "    reader = new FileReader();\n",
        "    reader.readAsDataURL(e.data); \n",
        "    reader.onloadend = function() {\n",
        "      base64data = reader.result;\n",
        "      //console.log(\"Inside FileReader:\" + base64data);\n",
        "    }\n",
        "  };\n",
        "  recorder.start();\n",
        "  };\n",
        "\n",
        "recordButton.innerText = \"Recording... press to stop\";\n",
        "\n",
        "navigator.mediaDevices.getUserMedia({audio: true}).then(handleSuccess);\n",
        "\n",
        "\n",
        "function toggleRecording() {\n",
        "  if (recorder && recorder.state == \"recording\") {\n",
        "      recorder.stop();\n",
        "      gumStream.getAudioTracks()[0].stop();\n",
        "      recordButton.innerText = \"Saving the recording... pls wait!\"\n",
        "  }\n",
        "}\n",
        "\n",
        "// https://stackoverflow.com/a/951057\n",
        "function sleep(ms) {\n",
        "  return new Promise(resolve => setTimeout(resolve, ms));\n",
        "}\n",
        "\n",
        "var data = new Promise(resolve=>{\n",
        "//recordButton.addEventListener(\"click\", toggleRecording);\n",
        "recordButton.onclick = ()=>{\n",
        "toggleRecording()\n",
        "\n",
        "sleep(2000).then(() => {\n",
        "  // wait 2000ms for the data to be available...\n",
        "  // ideally this should use something like await...\n",
        "  //console.log(\"Inside data:\" + base64data)\n",
        "  resolve(base64data.toString())\n",
        "\n",
        "});\n",
        "\n",
        "}\n",
        "});\n",
        "      \n",
        "</script>\n",
        "\"\"\"\n",
        "\n",
        "def get_audio():\n",
        "  display(HTML(AUDIO_HTML))\n",
        "  data = eval_js(\"data\")\n",
        "  binary = b64decode(data.split(',')[1])\n",
        "  \n",
        "  process = (ffmpeg\n",
        "    .input('pipe:0')\n",
        "    .output('pipe:1', format='wav')\n",
        "    .run_async(pipe_stdin=True, pipe_stdout=True, pipe_stderr=True, quiet=True, overwrite_output=True)\n",
        "  )\n",
        "  output, err = process.communicate(input=binary)\n",
        "  \n",
        "  riff_chunk_size = len(output) - 8\n",
        "  # Break up the chunk size into four bytes, held in b.\n",
        "  q = riff_chunk_size\n",
        "  b = []\n",
        "  for i in range(4):\n",
        "      q, r = divmod(q, 256)\n",
        "      b.append(r)\n",
        "\n",
        "  # Replace bytes 4:8 in proc.stdout with the actual size of the RIFF chunk.\n",
        "  riff = output[:4] + bytes(b) + output[8:]\n",
        "\n",
        " \n",
        "  path = '/content/tmp.wav'\n",
        "  with open(path, 'wb') as f:\n",
        "      f.write(riff)\n",
        "       \n",
        "  x, sr = torchaudio.load(path)\n",
        "\n",
        "  return x, sr\n",
        "audio, sr = get_audio()"
      ],
      "execution_count": null,
      "outputs": [
        {
          "output_type": "display_data",
          "data": {
            "text/html": [
              "\n",
              "<script>\n",
              "var my_div = document.createElement(\"DIV\");\n",
              "var my_p = document.createElement(\"P\");\n",
              "var my_btn = document.createElement(\"BUTTON\");\n",
              "var t = document.createTextNode(\"Press to start recording\");\n",
              "\n",
              "my_btn.appendChild(t);\n",
              "//my_p.appendChild(my_btn);\n",
              "my_div.appendChild(my_btn);\n",
              "document.body.appendChild(my_div);\n",
              "\n",
              "var base64data = 0;\n",
              "var reader;\n",
              "var recorder, gumStream;\n",
              "var recordButton = my_btn;\n",
              "\n",
              "var handleSuccess = function(stream) {\n",
              "  gumStream = stream;\n",
              "  var options = {\n",
              "    //bitsPerSecond: 8000, //chrome seems to ignore, always 48k\n",
              "    mimeType : 'audio/webm;codecs=opus'\n",
              "    //mimeType : 'audio/webm;codecs=pcm'\n",
              "  };            \n",
              "  //recorder = new MediaRecorder(stream, options);\n",
              "  recorder = new MediaRecorder(stream);\n",
              "  recorder.ondataavailable = function(e) {            \n",
              "    var url = URL.createObjectURL(e.data);\n",
              "    var preview = document.createElement('audio');\n",
              "    preview.controls = true;\n",
              "    preview.src = url;\n",
              "    document.body.appendChild(preview);\n",
              "\n",
              "    reader = new FileReader();\n",
              "    reader.readAsDataURL(e.data); \n",
              "    reader.onloadend = function() {\n",
              "      base64data = reader.result;\n",
              "      //console.log(\"Inside FileReader:\" + base64data);\n",
              "    }\n",
              "  };\n",
              "  recorder.start();\n",
              "  };\n",
              "\n",
              "recordButton.innerText = \"Recording... press to stop\";\n",
              "\n",
              "navigator.mediaDevices.getUserMedia({audio: true}).then(handleSuccess);\n",
              "\n",
              "\n",
              "function toggleRecording() {\n",
              "  if (recorder && recorder.state == \"recording\") {\n",
              "      recorder.stop();\n",
              "      gumStream.getAudioTracks()[0].stop();\n",
              "      recordButton.innerText = \"Saving the recording... pls wait!\"\n",
              "  }\n",
              "}\n",
              "\n",
              "// https://stackoverflow.com/a/951057\n",
              "function sleep(ms) {\n",
              "  return new Promise(resolve => setTimeout(resolve, ms));\n",
              "}\n",
              "\n",
              "var data = new Promise(resolve=>{\n",
              "//recordButton.addEventListener(\"click\", toggleRecording);\n",
              "recordButton.onclick = ()=>{\n",
              "toggleRecording()\n",
              "\n",
              "sleep(2000).then(() => {\n",
              "  // wait 2000ms for the data to be available...\n",
              "  // ideally this should use something like await...\n",
              "  //console.log(\"Inside data:\" + base64data)\n",
              "  resolve(base64data.toString())\n",
              "\n",
              "});\n",
              "\n",
              "}\n",
              "});\n",
              "      \n",
              "</script>\n"
            ],
            "text/plain": [
              "<IPython.core.display.HTML object>"
            ]
          },
          "metadata": {}
        }
      ]
    },
    {
      "cell_type": "code",
      "metadata": {
        "id": "YHN28BRCuuwg"
      },
      "source": [
        "mp3_file_content_to_recognize = open('tmp.wav', 'rb').read()\n",
        "shazam = Shazam(mp3_file_content_to_recognize)\n",
        "recognize_generator = shazam.recognizeSong()\n",
        "try:\n",
        "  youtube_json = next(recognize_generator)[1]['track']['sections'][2]['youtubeurl'] \n",
        "except ValueError:\n",
        "  print(\"Oopss..Can't find song, Please Try Again\")"
      ],
      "execution_count": null,
      "outputs": []
    },
    {
      "cell_type": "code",
      "metadata": {
        "id": "gmVNoDNbVhfs",
        "colab": {
          "base_uri": "https://localhost:8080/"
        },
        "outputId": "a8d2a926-29ab-4e20-b1ce-4ffb46f1f036"
      },
      "source": [
        "url = requests.get(youtube_json)\n",
        "text = url.text\n",
        "data = json.loads(text)\n",
        "video_uri = data['actions'][0]['uri']\n",
        "print(\"Video URI: \" ,video_uri)"
      ],
      "execution_count": null,
      "outputs": [
        {
          "output_type": "stream",
          "name": "stdout",
          "text": [
            "Video URI:  https://youtu.be/zn_axv6eoOw?autoplay=1\n"
          ]
        }
      ]
    },
    {
      "cell_type": "code",
      "metadata": {
        "id": "QrJCyWRscqj8",
        "colab": {
          "base_uri": "https://localhost:8080/"
        },
        "outputId": "0c006e74-87c7-4c41-cd7d-c08ac3494318"
      },
      "source": [
        "yt = YouTube(video_uri)\n",
        "len_query = len(yt.streams)\n",
        "q = yt.streams\n",
        "resolution = {'144':False,'240':False,'360':False,'480':False,'720':False,'1080':False,'1440':False,'2160':False}\n",
        "\n",
        "for  i in range (len_query): \n",
        "  q = yt.streams[i]\n",
        "  if q.resolution == '144p':\n",
        "    resolution['144'] = True\n",
        "  elif q.resolution == '240p':\n",
        "    resolution['240'] = True\n",
        "  elif q.resolution == '360p':\n",
        "    resolution['360'] = True\n",
        "  elif q.resolution == '480p':\n",
        "    resolution['480'] = True\n",
        "  elif q.resolution == '720p':\n",
        "    resolution['720'] = True\n",
        "  elif q.resolution == '1080p':\n",
        "    resolution['1080'] = True\n",
        "  elif q.resolution == '1440p':\n",
        "    resolution['1440'] = True\n",
        "  elif q.resolution == '2160p':\n",
        "    resolution['2160'] = True\n",
        "\n",
        "\n",
        "    \n",
        "print(\"Available resolutions:\")\n",
        "for i in list(resolution.keys()):\n",
        "  if resolution[i] != False: \n",
        "    print(i)"
      ],
      "execution_count": null,
      "outputs": [
        {
          "output_type": "stream",
          "name": "stdout",
          "text": [
            "Available resolutions:\n",
            "144\n",
            "240\n",
            "360\n",
            "480\n"
          ]
        }
      ]
    },
    {
      "cell_type": "code",
      "metadata": {
        "id": "QCDs48APXsCp"
      },
      "source": [
        "x = True\n",
        "y = True\n",
        "while x == True:\n",
        "  resolution_key = input(\"Enter a valid Resolution value: \") \n",
        "  for i in range(len(yt.streams)):\n",
        "\n",
        "    if yt.streams[i].resolution == resolution_key+'p':\n",
        "      x = False\n",
        "      while y == True:\n",
        "        key = input(\"To download as Video click --> v , To download as a mp3 click --> 3  :\")\n",
        "        if key == 'v':\n",
        "\n",
        "          try:\n",
        "            yt.streams[i].download()\n",
        "            print(\"Video downloaded sucessfully\")\n",
        "            break\n",
        "        \n",
        "          except ValueError:\n",
        "            print(\"Oopss..Link is not working\")\n",
        "            break\n",
        "          y = False\n",
        "\n",
        "        elif key == '3':    \n",
        "\n",
        "          try:\n",
        "            song = yt.streams[i].download()\n",
        "            clip = mp.VideoFileClip(song).subclip(0,20)\n",
        "            clip.audio.write_audiofile(\"theaudio.mp3\")\n",
        "            print(\"MP3 song downloaded sucessfully\")\n",
        "            break\n",
        "        \n",
        "          except ValueError:\n",
        "            print(\"Oopss..Link is not working\")\n",
        "            break\n",
        "          y = False\n",
        "\n",
        "      \n",
        "      break\n",
        "\n",
        "  if x == True:    \n",
        "    print(\"Oopss.. Please enter a valid resolution\") "
      ],
      "execution_count": null,
      "outputs": []
    }
  ]
}